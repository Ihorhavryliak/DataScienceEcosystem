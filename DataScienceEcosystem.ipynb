{
 "cells": [
  {
   "cell_type": "markdown",
   "id": "39fc354a-897a-47ab-ac91-7679bfefb410",
   "metadata": {},
   "source": [
    "# Інструменти та екосистема даних"
   ]
  },
  {
   "cell_type": "markdown",
   "id": "8fb3cd1b-9631-4e8b-96ea-4b61cffa43cc",
   "metadata": {},
   "source": [
    "У цьому блокноті підсумовані інструменти та екосистема даних."
   ]
  },
  {
   "cell_type": "markdown",
   "id": "c1ed3913-51a1-4c3f-bcba-8f316d6b2881",
   "metadata": {},
   "source": [
    "**Цілі:**\n",
    "* Перелік популярних мов для науки про дані\n",
    "* Перелік загальновживаних бібліотек, які використовують науковці з даних\n",
    "* Приклади оцінки арифметичних виразів у Python"
   ]
  },
  {
   "cell_type": "markdown",
   "id": "96093372-bbf2-4256-a543-3b10e48ac32d",
   "metadata": {},
   "source": [
    "Деякі з популярних мов, які використовують науковці з даних, це:\n",
    "1. Python\n",
    "2. SQL\n",
    "3. Julia"
   ]
  },
  {
   "cell_type": "markdown",
   "id": "104c7c29-3b2c-4ed0-b6d0-aa39fc682c75",
   "metadata": {},
   "source": [
    "Деякі з загальновживаних бібліотек, які використовують науковці з даних, включають:\n",
    "1. NumPy\n",
    "2. Pandas\n",
    "3. TensorFlow"
   ]
  },
  {
   "cell_type": "markdown",
   "id": "5d044890-b16b-4954-b7cf-23419a2ca0ba",
   "metadata": {},
   "source": [
    "| Інструменти даних |\n",
    "|-|\n",
    "| Jupyter Notebook |\n",
    "| Apache Hadoop |\n",
    "| RStudio |"
   ]
  },
  {
   "cell_type": "markdown",
   "id": "6185ce50-827e-493b-97ca-f57cee1a39c4",
   "metadata": {},
   "source": [
    "### Нижче наведено кілька прикладів оцінки арифметичних виразів у Python"
   ]
  },
  {
   "cell_type": "code",
   "execution_count": 52,
   "id": "9f66f3ee-e023-47d3-b195-3ab8dac98be9",
   "metadata": {
    "scrolled": true
   },
   "outputs": [
    {
     "data": {
      "text/plain": [
       "17"
      ]
     },
     "execution_count": 52,
     "metadata": {},
     "output_type": "execute_result"
    }
   ],
   "source": [
    "# Це простий арифметичний вираз для множення, а потім додавання цілих чисел\n",
    "(3*4)+5"
   ]
  },
  {
   "cell_type": "code",
   "execution_count": 54,
   "id": "e335ea27-741c-4ed2-b1f9-78cc220480f1",
   "metadata": {},
   "outputs": [
    {
     "data": {
      "text/plain": [
       "3.3333333333333335"
      ]
     },
     "execution_count": 54,
     "metadata": {},
     "output_type": "execute_result"
    }
   ],
   "source": [
    "# Це перетворить 200 хвилин на години, ділячи на 60\n",
    "200/60"
   ]
  },
  {
   "cell_type": "markdown",
   "id": "9c0098d7-2813-4ab0-8233-0c3913b0c54a",
   "metadata": {},
   "source": [
    "## Автор \n",
    "Ігор"
   ]
  }
 ],
 "metadata": {
  "kernelspec": {
   "display_name": "Python 3 (ipykernel)",
   "language": "python",
   "name": "python3"
  },
  "language_info": {
   "codemirror_mode": {
    "name": "ipython",
    "version": 3
   },
   "file_extension": ".py",
   "mimetype": "text/x-python",
   "name": "python",
   "nbconvert_exporter": "python",
   "pygments_lexer": "ipython3",
   "version": "3.12.7"
  }
 },
 "nbformat": 4,
 "nbformat_minor": 5
}
